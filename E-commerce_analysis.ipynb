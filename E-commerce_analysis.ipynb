{
 "cells": [
  {
   "cell_type": "code",
   "execution_count": 97,
   "id": "38709c04-d8d4-4f71-a0a5-24e5060c0aa4",
   "metadata": {},
   "outputs": [],
   "source": [
    "import os\n",
    "import pandas as pd\n",
    "import warnings\n",
    "warnings.filterwarnings('ignore')\n",
    "\n",
    "import psycopg2"
   ]
  },
  {
   "cell_type": "code",
   "execution_count": 5,
   "id": "cfecbe7a-1abe-4609-b306-9b436d96e191",
   "metadata": {},
   "outputs": [],
   "source": [
    "# Getting all data from the source file\n",
    "\n",
    "files = [file for file in os.listdir('./data')]"
   ]
  },
  {
   "cell_type": "code",
   "execution_count": 94,
   "id": "aaf550e8-cc73-424f-8caf-219a766a3bf8",
   "metadata": {},
   "outputs": [],
   "source": [
    "# Function to convert datetime\n",
    "\n",
    "def to_datetime(df, columns):\n",
    "    for col in columns:\n",
    "        try:\n",
    "            df[col] = pd.to_datetime(df[col], format='mixed')\n",
    "        except :\n",
    "            pass\n",
    "            "
   ]
  },
  {
   "cell_type": "code",
   "execution_count": null,
   "id": "aff23592-2cc1-4b81-9291-16e3487dea16",
   "metadata": {},
   "outputs": [],
   "source": []
  },
  {
   "cell_type": "code",
   "execution_count": 124,
   "id": "a64df6e6-766f-4313-8ae1-60460c42aeaf",
   "metadata": {
    "tags": []
   },
   "outputs": [
    {
     "name": "stdout",
     "output_type": "stream",
     "text": [
      "Data successfully added to database!\n",
      "Data successfully added to database!\n",
      "Data successfully added to database!\n"
     ]
    }
   ],
   "source": [
    "data_path = os.getcwd()+'\\\\data\\\\'\n",
    "\n",
    "#storing dataframe as file_name : data\n",
    "df = {}\n",
    "\n",
    "# Param to connect to database\n",
    "credentials = {\n",
    "    'database':'E-commerce_analysis',\n",
    "    'user':'postgres',\n",
    "    'password': 'chan.chano123099',\n",
    "    'host': '127.0.0.1',\n",
    "    'port': 5000\n",
    "}\n",
    "\n",
    "\n",
    "\n",
    "for file in files:\n",
    "    df[file] = pd.read_csv(data_path+file)\n",
    "    data = df[file]\n",
    "    \n",
    "    \n",
    "    # Remove '.csv' for db table name\n",
    "    table_name = file.split('.')[0].replace(' ', '_')\n",
    "    \n",
    "    # Clean and transform the data\n",
    "    # clean column name\n",
    "    data.columns = [col.lower().replace(' ', '_').replace('-','') for col in data.columns]\n",
    "    data.dropna(inplace=True)\n",
    "    columns = ['order_date', 'month_of_order_date']\n",
    "    to_datetime(data, columns)\n",
    "    \n",
    "    \n",
    "    # Map the pandas dtype to convert into sql dtype\n",
    "    replacement = {\n",
    "        'object':'varchar',\n",
    "        'datetime64[ns]':'timestamp',\n",
    "        'float64':'float',\n",
    "        'int64':'int'\n",
    "    }\n",
    "    \n",
    "    # Table constraint\n",
    "    col_sql = \",\".join(\"{} {}\".format(c,d) for (c,d) in zip(data.columns, data.dtypes.replace(replacement)))\n",
    "    \n",
    "    # Add to database\n",
    "    conn = psycopg2.connect(**credentials)\n",
    "    cur = conn.cursor()\n",
    "    \n",
    "    # Create table\n",
    "    cur.execute(\"DROP TABLE IF EXISTS {0}\".format(table_name))\n",
    "    cur.execute(\"CREATE TABLE IF NOT EXISTS {0} ({1})\".format(table_name, col_sql))\n",
    "    \n",
    "    data.to_csv(file, header=data.columns, index=False)\n",
    "    \n",
    "    my_file = open(file)\n",
    "    \n",
    "    sql_statement = f\"\"\"\n",
    "        COPY {table_name} FROM STDIN WITH\n",
    "            HEADER\n",
    "            CSV\n",
    "            DELIMITER AS ','\n",
    "    \"\"\"\n",
    "    \n",
    "    cur.copy_expert(sql=sql_statement,  file=my_file)\n",
    "    \n",
    "    print(\"Data successfully added to database!\")\n",
    "    \n",
    "    conn.commit()\n",
    "    conn.close()"
   ]
  },
  {
   "cell_type": "code",
   "execution_count": 95,
   "id": "394887a6-6ba3-4829-a03d-6d0e2207892e",
   "metadata": {},
   "outputs": [
    {
     "name": "stdout",
     "output_type": "stream",
     "text": [
      "Dtypes:  Order ID                object\n",
      "Order Date      datetime64[ns]\n",
      "CustomerName            object\n",
      "State                   object\n",
      "City                    object\n",
      "dtype: object \n",
      "\n",
      "Dtypes:  Order ID         object\n",
      "Amount          float64\n",
      "Profit          float64\n",
      "Quantity          int64\n",
      "Category         object\n",
      "Sub-Category     object\n",
      "dtype: object \n",
      "\n",
      "Dtypes:  Month of Order Date     object\n",
      "Category                object\n",
      "Target                 float64\n",
      "dtype: object \n",
      "\n"
     ]
    }
   ],
   "source": [
    "# Let's see if the null values will be drop or need to analyse\n",
    "\n",
    "handler = {}\n",
    "for i, file in enumerate(files):\n",
    "    handler[i] = pd.read_csv(data_path+file)\n",
    "    \n",
    "    columns = ['Order Date', 'Month of Order Date']\n",
    "    \n",
    "    to_datetime(handler[i], columns)\n",
    "    \n",
    "    print(\"Dtypes: \", handler[i].dtypes, \"\\n\")\n",
    "    \n",
    "    #print(f\"{file}: \", handler[i].isna().sum())\n",
    "    #print(\"---------------------------------------\")\n",
    "    #print(f\"{file}: Duplicated values: \", handler[i].duplicated().sum())\n",
    "    #print(\"---------------------------------------\")\n",
    "    \n",
    "    # Conclusion: Drop the null\n",
    "    "
   ]
  },
  {
   "cell_type": "code",
   "execution_count": null,
   "id": "d8013aa7-9a3a-4faa-9541-2b46ef8e28be",
   "metadata": {},
   "outputs": [],
   "source": []
  },
  {
   "cell_type": "code",
   "execution_count": null,
   "id": "2a03a25e-9711-412b-87c0-9d02e4575a85",
   "metadata": {},
   "outputs": [],
   "source": []
  },
  {
   "cell_type": "code",
   "execution_count": null,
   "id": "973bfebb-57b3-435b-a1af-55d22e9367f9",
   "metadata": {},
   "outputs": [],
   "source": []
  },
  {
   "cell_type": "code",
   "execution_count": null,
   "id": "8f14a4a6-acd4-4853-b8f5-dd49a0a9374b",
   "metadata": {},
   "outputs": [],
   "source": []
  },
  {
   "cell_type": "code",
   "execution_count": null,
   "id": "82783dbe-de61-437d-9ce7-223711571f0a",
   "metadata": {},
   "outputs": [],
   "source": []
  },
  {
   "cell_type": "code",
   "execution_count": null,
   "id": "e4cbed2e-0fb2-4c81-9faf-809b2028ebd1",
   "metadata": {},
   "outputs": [],
   "source": []
  },
  {
   "cell_type": "code",
   "execution_count": null,
   "id": "e495bf68-a6fc-49de-bcf4-14fd00796d9f",
   "metadata": {},
   "outputs": [],
   "source": []
  },
  {
   "cell_type": "code",
   "execution_count": null,
   "id": "52f2f848-636a-4189-aaa7-3c2ed010bb08",
   "metadata": {},
   "outputs": [],
   "source": []
  },
  {
   "cell_type": "code",
   "execution_count": null,
   "id": "b9c8a9ea-a90d-4919-9114-6079b2ede629",
   "metadata": {},
   "outputs": [],
   "source": []
  },
  {
   "cell_type": "code",
   "execution_count": null,
   "id": "33477772-6dc6-46ee-8105-6f71438f0df1",
   "metadata": {},
   "outputs": [],
   "source": []
  },
  {
   "cell_type": "code",
   "execution_count": null,
   "id": "c7f33551-f09d-48b7-81b3-6f6f2229bd06",
   "metadata": {},
   "outputs": [],
   "source": []
  },
  {
   "cell_type": "code",
   "execution_count": null,
   "id": "d6572422-77b3-4239-bd10-6fb64f32a9ba",
   "metadata": {},
   "outputs": [],
   "source": []
  },
  {
   "cell_type": "code",
   "execution_count": null,
   "id": "bd204ed0-632a-49a8-a4fb-c458bc0e7245",
   "metadata": {},
   "outputs": [],
   "source": []
  },
  {
   "cell_type": "code",
   "execution_count": null,
   "id": "c998f463-97f6-46cc-bc5f-f1e49a6cf786",
   "metadata": {},
   "outputs": [],
   "source": []
  },
  {
   "cell_type": "code",
   "execution_count": null,
   "id": "92577efc-886e-47f5-9d2c-abfe39bc64ef",
   "metadata": {},
   "outputs": [],
   "source": []
  },
  {
   "cell_type": "code",
   "execution_count": null,
   "id": "d3a8ed05-aada-4487-a1c4-c8694d9e47cf",
   "metadata": {},
   "outputs": [],
   "source": []
  },
  {
   "cell_type": "code",
   "execution_count": null,
   "id": "6168da2d-06a8-4259-934e-f1522c8d9820",
   "metadata": {},
   "outputs": [],
   "source": []
  },
  {
   "cell_type": "code",
   "execution_count": null,
   "id": "df4ec123-baed-49ed-b5da-5745ca82c284",
   "metadata": {},
   "outputs": [],
   "source": []
  }
 ],
 "metadata": {
  "kernelspec": {
   "display_name": "Python 3 (ipykernel)",
   "language": "python",
   "name": "python3"
  },
  "language_info": {
   "codemirror_mode": {
    "name": "ipython",
    "version": 3
   },
   "file_extension": ".py",
   "mimetype": "text/x-python",
   "name": "python",
   "nbconvert_exporter": "python",
   "pygments_lexer": "ipython3",
   "version": "3.9.0"
  }
 },
 "nbformat": 4,
 "nbformat_minor": 5
}
